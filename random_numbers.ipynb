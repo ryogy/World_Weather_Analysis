{
 "cells": [
  {
   "cell_type": "code",
   "execution_count": 1,
   "id": "77caac90",
   "metadata": {},
   "outputs": [],
   "source": [
    "import random"
   ]
  },
  {
   "cell_type": "code",
   "execution_count": 3,
   "id": "798c6302",
   "metadata": {},
   "outputs": [
    {
     "data": {
      "text/plain": [
       "64"
      ]
     },
     "execution_count": 3,
     "metadata": {},
     "output_type": "execute_result"
    }
   ],
   "source": [
    "random.randint(-90, 90)"
   ]
  },
  {
   "cell_type": "code",
   "execution_count": 4,
   "id": "2e52915c",
   "metadata": {},
   "outputs": [
    {
     "data": {
      "text/plain": [
       "0.6574173569466036"
      ]
     },
     "execution_count": 4,
     "metadata": {},
     "output_type": "execute_result"
    }
   ],
   "source": [
    "random.random()"
   ]
  },
  {
   "cell_type": "code",
   "execution_count": 6,
   "id": "fbc39ef0",
   "metadata": {},
   "outputs": [
    {
     "data": {
      "text/plain": [
       "56.83006361611628"
      ]
     },
     "execution_count": 6,
     "metadata": {},
     "output_type": "execute_result"
    }
   ],
   "source": [
    "random_number = random.randint(-90, 90) + random.random()\n",
    "random_number"
   ]
  },
  {
   "cell_type": "code",
   "execution_count": 19,
   "id": "6916fe7c",
   "metadata": {},
   "outputs": [
    {
     "name": "stdout",
     "output_type": "stream",
     "text": [
      "1.15 ms ± 5.62 µs per loop (mean ± std. dev. of 7 runs, 1000 loops each)\n"
     ]
    }
   ],
   "source": [
    "def latitudes(size):\n",
    "    x = 0\n",
    "    latitudes = []\n",
    "    while x < (size):\n",
    "        random_lat = random.randint(-90, 89) + random.random()\n",
    "        latitudes.append(random_lat)\n",
    "        x += 1\n",
    "\n",
    "    \n",
    "%timeit latitudes(1500)"
   ]
  },
  {
   "cell_type": "code",
   "execution_count": 9,
   "id": "bd315b82",
   "metadata": {},
   "outputs": [
    {
     "data": {
      "text/plain": [
       "-24"
      ]
     },
     "execution_count": 9,
     "metadata": {},
     "output_type": "execute_result"
    }
   ],
   "source": [
    "random.randrange(-90, 90, step=1)"
   ]
  },
  {
   "cell_type": "code",
   "execution_count": 10,
   "id": "76cdab22",
   "metadata": {},
   "outputs": [
    {
     "data": {
      "text/plain": [
       "69"
      ]
     },
     "execution_count": 10,
     "metadata": {},
     "output_type": "execute_result"
    }
   ],
   "source": [
    "random.randrange(-90, 90, step=3)"
   ]
  },
  {
   "cell_type": "code",
   "execution_count": 11,
   "id": "06f9893d",
   "metadata": {},
   "outputs": [
    {
     "data": {
      "text/plain": [
       "-41.702757487779316"
      ]
     },
     "execution_count": 11,
     "metadata": {},
     "output_type": "execute_result"
    }
   ],
   "source": [
    "random.uniform(-90, 90)"
   ]
  },
  {
   "cell_type": "code",
   "execution_count": 12,
   "id": "e073a0d2",
   "metadata": {},
   "outputs": [],
   "source": [
    "# Import the NumPy module\n",
    "import numpy as np"
   ]
  },
  {
   "cell_type": "code",
   "execution_count": 14,
   "id": "115a5eea",
   "metadata": {},
   "outputs": [
    {
     "data": {
      "text/plain": [
       "array([ 18.43482194,  50.92036183, -87.97726689,  -7.42217593,\n",
       "        -7.14565799,   1.57316099, -57.54977142,  80.34221215,\n",
       "        36.21196549,  -4.44515804,  -6.78154552,  50.4680154 ,\n",
       "        56.74791431, -60.90165885,  49.08806766,  71.74689925,\n",
       "       -60.22692159, -59.75918912,  36.73686637,  28.45967427,\n",
       "        79.35595763, -71.50526305,  -9.13783413,  44.51555478,\n",
       "        17.27046559, -74.69403039, -85.86571829,  53.57948212,\n",
       "       -54.39408462,   0.15234993, -54.66162626,  51.96651437,\n",
       "       -83.44818973,  30.12203739, -64.64153021,  26.21572527,\n",
       "       -19.86487868,  19.97308983, -60.40061213, -33.87870588,\n",
       "        -0.60043781, -63.33235806,  58.18516949,  -6.40131308,\n",
       "         8.54893599,  80.20420233, -77.90951121,  32.2379515 ,\n",
       "       -43.75050434,  26.59201738])"
      ]
     },
     "execution_count": 14,
     "metadata": {},
     "output_type": "execute_result"
    }
   ],
   "source": [
    "np.random.uniform(-90.000, 90.000, size=50)"
   ]
  },
  {
   "cell_type": "code",
   "execution_count": 15,
   "id": "189bc879",
   "metadata": {},
   "outputs": [],
   "source": [
    "# Import timeit\n",
    "import timeit"
   ]
  },
  {
   "cell_type": "code",
   "execution_count": 16,
   "id": "52e0ae73",
   "metadata": {},
   "outputs": [
    {
     "name": "stdout",
     "output_type": "stream",
     "text": [
      "102 µs ± 171 ns per loop (mean ± std. dev. of 7 runs, 10000 loops each)\n"
     ]
    }
   ],
   "source": [
    "%timeit np.random.uniform(-90.000, 90.000, size=15000)"
   ]
  },
  {
   "cell_type": "code",
   "execution_count": 22,
   "id": "100405e5",
   "metadata": {},
   "outputs": [
    {
     "name": "stdout",
     "output_type": "stream",
     "text": [
      "1.15 ms ± 2.31 µs per loop (mean ± std. dev. of 7 runs, 1000 loops each)\n"
     ]
    }
   ],
   "source": [
    "def latitudes(size):\n",
    "    x = 0\n",
    "    latitudes = []\n",
    "    while x < (size):\n",
    "        random_lat = random.randint(-90, 89) + random.random()\n",
    "        latitudes.append(random_lat)\n",
    "        x += 1\n",
    "\n",
    "    \n",
    "%timeit latitudes(1500)"
   ]
  }
 ],
 "metadata": {
  "kernelspec": {
   "display_name": "PythonData",
   "language": "python",
   "name": "pythondata"
  },
  "language_info": {
   "codemirror_mode": {
    "name": "ipython",
    "version": 3
   },
   "file_extension": ".py",
   "mimetype": "text/x-python",
   "name": "python",
   "nbconvert_exporter": "python",
   "pygments_lexer": "ipython3",
   "version": "3.8.8"
  }
 },
 "nbformat": 4,
 "nbformat_minor": 5
}
