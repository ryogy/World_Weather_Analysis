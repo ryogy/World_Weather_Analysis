{
 "cells": [
  {
   "cell_type": "code",
   "execution_count": 1,
   "id": "3c1e8a3a",
   "metadata": {},
   "outputs": [],
   "source": [
    "# Create a practice set of random latitude and longitude combinations.\n",
    "x = [25.12903645, 25.92017388, 26.62509167, -59.98969384, 37.30571269]\n",
    "y = [-67.59741259, 11.09532135, 74.84233102, -76.89176677, -61.13376282]\n",
    "coordinates = zip(x, y)\n"
   ]
  },
  {
   "cell_type": "code",
   "execution_count": null,
   "id": "0817dcc2",
   "metadata": {},
   "outputs": [],
   "source": []
  },
  {
   "cell_type": "code",
   "execution_count": 2,
   "id": "34387c2d",
   "metadata": {},
   "outputs": [
    {
     "name": "stdout",
     "output_type": "stream",
     "text": [
      "25.12903645 -67.59741259\n",
      "25.92017388 11.09532135\n",
      "26.62509167 74.84233102\n",
      "-59.98969384 -76.89176677\n",
      "37.30571269 -61.13376282\n"
     ]
    }
   ],
   "source": [
    "# Use the tuple() function to display the latitude and longitude combinations.\n",
    "for coordinate in coordinates:\n",
    "    print(coordinate[0], coordinate[1])\n"
   ]
  },
  {
   "cell_type": "code",
   "execution_count": 1,
   "id": "ec0899a2",
   "metadata": {},
   "outputs": [],
   "source": [
    "import citipy"
   ]
  },
  {
   "cell_type": "code",
   "execution_count": 9,
   "id": "5c437d7b",
   "metadata": {},
   "outputs": [
    {
     "name": "stdout",
     "output_type": "stream",
     "text": [
      "Available kernels:\r\n",
      "  pythondata    /Users/robertyokabaskas/Library/Jupyter/kernels/pythondata\r\n",
      "  python3       /Users/robertyokabaskas/opt/anaconda3/envs/PythonData/share/jupyter/kernels/python3\r\n"
     ]
    }
   ],
   "source": [
    "!jupyter kernelspec list "
   ]
  },
  {
   "cell_type": "code",
   "execution_count": 10,
   "id": "24e82fcf",
   "metadata": {},
   "outputs": [
    {
     "name": "stdout",
     "output_type": "stream",
     "text": [
      "{\r\n",
      "  \"kernelspecs\": {\r\n",
      "    \"pythondata\": {\r\n",
      "      \"resource_dir\": \"/Users/robertyokabaskas/Library/Jupyter/kernels/pythondata\",\r\n",
      "      \"spec\": {\r\n",
      "        \"argv\": [\r\n",
      "          \"/Users/robertyokabaskas/opt/anaconda3/bin/python\",\r\n",
      "          \"-m\",\r\n",
      "          \"ipykernel_launcher\",\r\n",
      "          \"-f\",\r\n",
      "          \"{connection_file}\"\r\n",
      "        ],\r\n",
      "        \"env\": {},\r\n",
      "        \"display_name\": \"PythonData\",\r\n",
      "        \"language\": \"python\",\r\n",
      "        \"interrupt_mode\": \"signal\",\r\n",
      "        \"metadata\": {}\r\n",
      "      }\r\n",
      "    },\r\n",
      "    \"python3\": {\r\n",
      "      \"resource_dir\": \"/Users/robertyokabaskas/opt/anaconda3/envs/PythonData/share/jupyter/kernels/python3\",\r\n",
      "      \"spec\": {\r\n",
      "        \"argv\": [\r\n",
      "          \"/Users/robertyokabaskas/opt/anaconda3/envs/PythonData/bin/python\",\r\n",
      "          \"-m\",\r\n",
      "          \"ipykernel_launcher\",\r\n",
      "          \"-f\",\r\n",
      "          \"{connection_file}\"\r\n",
      "        ],\r\n",
      "        \"env\": {},\r\n",
      "        \"display_name\": \"Python 3\",\r\n",
      "        \"language\": \"python\",\r\n",
      "        \"interrupt_mode\": \"signal\",\r\n",
      "        \"metadata\": {}\r\n",
      "      }\r\n",
      "    }\r\n",
      "  }\r\n",
      "}\r\n"
     ]
    }
   ],
   "source": [
    "!jupyter kernelspec list --json"
   ]
  },
  {
   "cell_type": "code",
   "execution_count": 1,
   "id": "a0d2cfdb",
   "metadata": {},
   "outputs": [
    {
     "name": "stdout",
     "output_type": "stream",
     "text": [
      "/Users/robertyokabaskas/opt/anaconda3/envs/PythonData/bin/python\r\n",
      "/usr/bin/python\r\n"
     ]
    }
   ],
   "source": [
    " !which -a python"
   ]
  },
  {
   "cell_type": "code",
   "execution_count": 2,
   "id": "b515b371",
   "metadata": {},
   "outputs": [
    {
     "name": "stdout",
     "output_type": "stream",
     "text": [
      "Python 2.7.16\r\n"
     ]
    }
   ],
   "source": [
    "!/usr/bin/python --version"
   ]
  },
  {
   "cell_type": "code",
   "execution_count": null,
   "id": "3a99d001",
   "metadata": {},
   "outputs": [],
   "source": []
  }
 ],
 "metadata": {
  "kernelspec": {
   "display_name": "PythonData",
   "language": "python",
   "name": "pythondata"
  },
  "language_info": {
   "codemirror_mode": {
    "name": "ipython",
    "version": 3
   },
   "file_extension": ".py",
   "mimetype": "text/x-python",
   "name": "python",
   "nbconvert_exporter": "python",
   "pygments_lexer": "ipython3",
   "version": "3.8.8"
  }
 },
 "nbformat": 4,
 "nbformat_minor": 5
}
